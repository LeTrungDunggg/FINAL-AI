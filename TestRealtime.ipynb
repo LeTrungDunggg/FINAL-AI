{
  "nbformat": 4,
  "nbformat_minor": 0,
  "metadata": {
    "colab": {
      "name": "Untitled1.ipynb",
      "provenance": [],
      "authorship_tag": "ABX9TyMjgYxdzpcB9dxtytC0p0cN",
      "include_colab_link": true
    },
    "kernelspec": {
      "name": "python3",
      "display_name": "Python 3"
    },
    "language_info": {
      "name": "python"
    }
  },
  "cells": [
    {
      "cell_type": "markdown",
      "metadata": {
        "id": "view-in-github",
        "colab_type": "text"
      },
      "source": [
        "<a href=\"https://colab.research.google.com/github/LeTrungDunggg/FINAL-AI/blob/main/TestRealtime.ipynb\" target=\"_parent\"><img src=\"https://colab.research.google.com/assets/colab-badge.svg\" alt=\"Open In Colab\"/></a>"
      ]
    },
    {
      "cell_type": "code",
      "execution_count": null,
      "metadata": {
        "id": "18AC8Uc2XDl8"
      },
      "outputs": [],
      "source": [
        "import numpy as np\n",
        "from keras_preprocessing import image\n",
        "import cv2\n",
        "import os\n",
        "import tensorflow as tf\n",
        "from keras import models\n",
        "vid = cv2.VideoCapture(0)\n",
        "print(\"Camera connection successfully established\")\n",
        "i = 0\n",
        "classes=['Koxacdinh','Non','Organic','Reclyling']\n",
        "new_model=models.load_model('project1.h5')\n",
        "while(True):\n",
        "    r, frame = vid.read()\n",
        "    cv2.imshow('frame', frame)\n",
        "    cv2.imwrite('F:\\\\STUDY\\\\HK2-21-22\\\\AI\\\\WASTE CLASSIFICATION\\\\final' + str(i) + \".jpg\", frame)\n",
        "    test_image = image.load_img('F:\\\\STUDY\\\\HK2-21-22\\\\AI\\\\WASTE CLASSIFICATION\\\\final' + str(i) + \".jpg\", target_size=(150, 150))\n",
        "    test_image = image.img_to_array(test_image)\n",
        "    test_image = np.expand_dims(test_image, axis=0)\n",
        "    result = new_model.predict(test_image)\n",
        "    result1 = result[0]\n",
        "    for y in range(4):\n",
        "        if result1[y] == 1.:\n",
        "            break\n",
        "    ##print(prediction)\n",
        "    ##print(prediction)\n",
        "    prediction = classes[y]\n",
        "    print(prediction)\n",
        "    os.remove('F:\\\\STUDY\\\\HK2-21-22\\\\AI\\\\WASTE CLASSIFICATION\\\\final' + str(i) + \".jpg\")\n",
        "    i = i + 1\n",
        "    if cv2.waitKey(1) & 0xFF == ord('q'):\n",
        "        break\n",
        "vid.release()\n",
        "cv2.destroyAllWindows()\n"
      ]
    }
  ]
}