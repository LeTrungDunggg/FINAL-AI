{
  "cells": [
    {
      "cell_type": "markdown",
      "metadata": {
        "id": "view-in-github",
        "colab_type": "text"
      },
      "source": [
        "<a href=\"https://colab.research.google.com/github/LeTrungDunggg/FINAL-AI/blob/main/Untitled0.ipynb\" target=\"_parent\"><img src=\"https://colab.research.google.com/assets/colab-badge.svg\" alt=\"Open In Colab\"/></a>"
      ]
    },
    {
      "cell_type": "code",
      "execution_count": null,
      "metadata": {
        "id": "BID68-hIMS3J"
      },
      "outputs": [],
      "source": [
        "import tensorflow as tf\n",
        "from keras.callbacks import EarlyStopping\n",
        "from tensorflow import keras\n",
        "from tensorflow.keras import Sequential\n",
        "from tensorflow.keras.layers import Conv2D\n",
        "from tensorflow.keras.layers import MaxPooling2D\n",
        "from tensorflow.keras.layers import Flatten\n",
        "from tensorflow.keras.layers import Dense\n",
        "from tensorflow.keras.preprocessing.image import ImageDataGenerator\n",
        "import numpy as np\n",
        "from sklearn.model_selection import train_test_split\n",
        "from tensorflow.keras.utils import to_categorical\n",
        "from tensorflow.keras.models import load_model\n",
        "from tensorflow.keras.utils import load_img, img_to_array\n",
        "from tensorflow.keras.optimizers import SGD, RMSprop, Adam\n",
        "from keras.callbacks import EarlyStopping, ModelCheckpoint\n",
        "from sklearn.utils import validation\n",
        "from sklearn import preprocessing\n",
        "from keras.layers import Input, Flatten, Dense, Dropout\n",
        "import tensorflow as tf\n",
        "import tensorflow.keras.layers as tfl\n",
        "import matplotlib.pyplot as plt\n"
      ]
    },
    {
      "cell_type": "code",
      "execution_count": null,
      "metadata": {
        "colab": {
          "base_uri": "https://localhost:8080/"
        },
        "id": "l1sd2MzNM_Em",
        "outputId": "05edfe8c-f98d-462c-ea6d-96e4d8169d29"
      },
      "outputs": [
        {
          "output_type": "stream",
          "name": "stdout",
          "text": [
            "Mounted at /content/drive\n"
          ]
        }
      ],
      "source": [
        "from google.colab import drive\n",
        "drive.mount('/content/drive')"
      ]
    },
    {
      "cell_type": "code",
      "execution_count": null,
      "metadata": {
        "id": "k8EP8HEiNNG4"
      },
      "outputs": [],
      "source": [
        "# Tạo ra class ImageDataGenerator để chỉnh sửa ảnh \n",
        "train_datagen=ImageDataGenerator(rescale=1./255, shear_range=0.2, zoom_range=0.2, horizontal_flip=True)"
      ]
    },
    {
      "cell_type": "code",
      "execution_count": null,
      "metadata": {
        "colab": {
          "base_uri": "https://localhost:8080/"
        },
        "id": "WlKRc141NW9q",
        "outputId": "0d35d38e-1414-4ed2-962f-a6226e17b01b"
      },
      "outputs": [
        {
          "output_type": "stream",
          "name": "stdout",
          "text": [
            "Found 9879 images belonging to 4 classes.\n"
          ]
        }
      ],
      "source": [
        "training_set=train_datagen.flow_from_directory('/content/drive/MyDrive/HK6/PROJECT/TRAIN',target_size=(150,150), batch_size=32, class_mode='categorical')"
      ]
    },
    {
      "cell_type": "code",
      "execution_count": null,
      "metadata": {
        "colab": {
          "base_uri": "https://localhost:8080/"
        },
        "id": "c39vOwsSNh03",
        "outputId": "927520f4-672d-49ae-f4e5-b39d24daf057"
      },
      "outputs": [
        {
          "output_type": "stream",
          "name": "stdout",
          "text": [
            "Found 3314 images belonging to 4 classes.\n"
          ]
        }
      ],
      "source": [
        "validation=train_datagen.flow_from_directory('/content/drive/MyDrive/HK6/PROJECT/TEST',target_size=(150,150), batch_size=32, class_mode='categorical')"
      ]
    },
    {
      "cell_type": "code",
      "execution_count": null,
      "metadata": {
        "colab": {
          "base_uri": "https://localhost:8080/"
        },
        "id": "LushhGIJN5H5",
        "outputId": "bfa25d1a-9574-453d-94d2-a1a07c0ef378"
      },
      "outputs": [
        {
          "data": {
            "text/plain": [
              "{'ChuaXacDinh': 0, 'NON': 1, 'ORGANIC': 2, 'RECYLING': 3}"
            ]
          },
          "execution_count": 6,
          "metadata": {},
          "output_type": "execute_result"
        }
      ],
      "source": [
        "training_set.class_indices"
      ]
    },
    {
      "cell_type": "code",
      "execution_count": null,
      "metadata": {
        "colab": {
          "base_uri": "https://localhost:8080/"
        },
        "id": "dmCHOr-ArTJZ",
        "outputId": "3e280774-7fac-473d-e650-8f57c8f36489"
      },
      "outputs": [
        {
          "output_type": "stream",
          "name": "stdout",
          "text": [
            "Model: \"sequential\"\n",
            "_________________________________________________________________\n",
            " Layer (type)                Output Shape              Param #   \n",
            "=================================================================\n",
            " conv2d (Conv2D)             (None, 150, 150, 32)      896       \n",
            "                                                                 \n",
            " conv2d_1 (Conv2D)           (None, 150, 150, 32)      9248      \n",
            "                                                                 \n",
            " max_pooling2d (MaxPooling2D  (None, 75, 75, 32)       0         \n",
            " )                                                               \n",
            "                                                                 \n",
            " conv2d_2 (Conv2D)           (None, 75, 75, 64)        18496     \n",
            "                                                                 \n",
            " conv2d_3 (Conv2D)           (None, 75, 75, 64)        36928     \n",
            "                                                                 \n",
            " max_pooling2d_1 (MaxPooling  (None, 37, 37, 64)       0         \n",
            " 2D)                                                             \n",
            "                                                                 \n",
            " conv2d_4 (Conv2D)           (None, 37, 37, 128)       73856     \n",
            "                                                                 \n",
            " conv2d_5 (Conv2D)           (None, 37, 37, 128)       147584    \n",
            "                                                                 \n",
            " max_pooling2d_2 (MaxPooling  (None, 18, 18, 128)      0         \n",
            " 2D)                                                             \n",
            "                                                                 \n",
            " flatten (Flatten)           (None, 41472)             0         \n",
            "                                                                 \n",
            " dense (Dense)               (None, 512)               21234176  \n",
            "                                                                 \n",
            " dropout (Dropout)           (None, 512)               0         \n",
            "                                                                 \n",
            " dense_1 (Dense)             (None, 256)               131328    \n",
            "                                                                 \n",
            " dense_2 (Dense)             (None, 4)                 1028      \n",
            "                                                                 \n",
            "=================================================================\n",
            "Total params: 21,653,540\n",
            "Trainable params: 21,653,540\n",
            "Non-trainable params: 0\n",
            "_________________________________________________________________\n"
          ]
        }
      ],
      "source": [
        "model = tf.keras.models.Sequential([\n",
        "    tf.keras.layers.Conv2D(filters=32,activation='relu',input_shape=(150,150,3),padding='same',kernel_size=(3,3)),\n",
        "    tf.keras.layers.Conv2D(filters=32,activation='relu',padding='same',kernel_size=(3,3)),\n",
        "    tf.keras.layers.MaxPool2D(pool_size=(2,2)),\n",
        "    tf.keras.layers.Conv2D(filters=64,activation='relu',padding='same',kernel_size=(3,3)),\n",
        "    tf.keras.layers.Conv2D(filters=64,activation='relu',padding='same',kernel_size=(3,3)),\n",
        "    tf.keras.layers.MaxPool2D(pool_size=(2,2)),\n",
        "    tf.keras.layers.Conv2D(filters=128,activation='relu',padding='same',kernel_size=(3,3)),\n",
        "    tf.keras.layers.Conv2D(filters=128,activation='relu',padding='same',kernel_size=(3,3)),\n",
        "    tf.keras.layers.MaxPool2D(pool_size=(2,2)),\n",
        "    # Flatten the results to feed into a DNN\n",
        "    tf.keras.layers.Flatten(),\n",
        "    # 512 neuron hidden layer\n",
        "    tf.keras.layers.Dense(units=512,activation='relu'),\n",
        "    tf.keras.layers.Dropout(0.1),\n",
        "    # 512 neuron hidden layer\n",
        "    tf.keras.layers.Dense(units=256,activation='relu'),\n",
        "    # Only 1 output neuron. It will contain a value from 0-1 where 0 for 1 class ('Organic')\n",
        "    # and 1 for the other ('Recycled')\n",
        "    tf.keras.layers.Dense(units=4,activation='softmax'),\n",
        "])\n",
        "model.summary()"
      ]
    },
    {
      "cell_type": "code",
      "execution_count": null,
      "metadata": {
        "colab": {
          "base_uri": "https://localhost:8080/"
        },
        "id": "MLsGHtzSrY8H",
        "outputId": "e999f97c-df63-42cd-9bc4-527370c438a2"
      },
      "outputs": [
        {
          "output_type": "stream",
          "name": "stderr",
          "text": [
            "/usr/local/lib/python3.7/dist-packages/keras/optimizer_v2/rmsprop.py:130: UserWarning: The `lr` argument is deprecated, use `learning_rate` instead.\n",
            "  super(RMSprop, self).__init__(name, **kwargs)\n"
          ]
        }
      ],
      "source": [
        "model.compile(optimizer=RMSprop(lr=0.001),\n",
        "              loss='categorical_crossentropy',\n",
        "              metrics = [tf.keras.metrics.AUC(name = 'auc')])"
      ]
    },
    {
      "cell_type": "code",
      "execution_count": null,
      "metadata": {
        "colab": {
          "base_uri": "https://localhost:8080/"
        },
        "id": "SdYRjPsZRhNe",
        "outputId": "b200bfff-f78a-4cb6-c09a-09afbf8b178e"
      },
      "outputs": [
        {
          "output_type": "stream",
          "name": "stdout",
          "text": [
            "Epoch 1/30\n",
            "183/309 [================>.............] - ETA: 16:20 - loss: 1.1945 - auc: 0.7855"
          ]
        },
        {
          "output_type": "stream",
          "name": "stderr",
          "text": [
            "/usr/local/lib/python3.7/dist-packages/PIL/TiffImagePlugin.py:788: UserWarning: Corrupt EXIF data.  Expecting to read 4 bytes but only got 2. \n",
            "  warnings.warn(str(msg))\n"
          ]
        },
        {
          "output_type": "stream",
          "name": "stdout",
          "text": [
            "309/309 [==============================] - 3229s 10s/step - loss: 1.0643 - auc: 0.8184 - val_loss: 1.2018 - val_auc: 0.7574\n",
            "Epoch 2/30\n",
            "309/309 [==============================] - 163s 527ms/step - loss: 0.7909 - auc: 0.8880 - val_loss: 0.7489 - val_auc: 0.8954\n",
            "Epoch 3/30\n",
            "309/309 [==============================] - 159s 515ms/step - loss: 0.7280 - auc: 0.9028 - val_loss: 0.7479 - val_auc: 0.9006\n",
            "Epoch 4/30\n",
            "309/309 [==============================] - 161s 521ms/step - loss: 0.6912 - auc: 0.9117 - val_loss: 0.6665 - val_auc: 0.9169\n",
            "Epoch 5/30\n",
            "309/309 [==============================] - 159s 514ms/step - loss: 0.6657 - auc: 0.9178 - val_loss: 0.6625 - val_auc: 0.9192\n",
            "Epoch 6/30\n",
            "309/309 [==============================] - 160s 517ms/step - loss: 0.6451 - auc: 0.9240 - val_loss: 0.6660 - val_auc: 0.9206\n",
            "Epoch 7/30\n",
            "309/309 [==============================] - 158s 512ms/step - loss: 0.6301 - auc: 0.9270 - val_loss: 0.7118 - val_auc: 0.9083\n",
            "Epoch 8/30\n",
            "309/309 [==============================] - 158s 510ms/step - loss: 0.6277 - auc: 0.9288 - val_loss: 1.0759 - val_auc: 0.8330\n",
            "Epoch 9/30\n",
            "309/309 [==============================] - 159s 515ms/step - loss: 0.6224 - auc: 0.9293 - val_loss: 0.7907 - val_auc: 0.9115\n",
            "Epoch 10/30\n",
            "309/309 [==============================] - 158s 510ms/step - loss: 0.6087 - auc: 0.9326 - val_loss: 0.6228 - val_auc: 0.9303\n",
            "Epoch 11/30\n",
            "309/309 [==============================] - 159s 514ms/step - loss: 0.6393 - auc: 0.9328 - val_loss: 0.6578 - val_auc: 0.9229\n",
            "Epoch 12/30\n",
            "309/309 [==============================] - 158s 512ms/step - loss: 0.6079 - auc: 0.9350 - val_loss: 0.6736 - val_auc: 0.9235\n",
            "Epoch 13/30\n",
            "309/309 [==============================] - 159s 514ms/step - loss: 0.6152 - auc: 0.9332 - val_loss: 0.7937 - val_auc: 0.9266\n",
            "Epoch 14/30\n",
            "309/309 [==============================] - 157s 508ms/step - loss: 0.6585 - auc: 0.9337 - val_loss: 0.6684 - val_auc: 0.9186\n",
            "Epoch 15/30\n",
            "309/309 [==============================] - 161s 521ms/step - loss: 0.6170 - auc: 0.9339 - val_loss: 0.7024 - val_auc: 0.9195\n",
            "Epoch 16/30\n",
            "309/309 [==============================] - 160s 518ms/step - loss: 0.6486 - auc: 0.9350 - val_loss: 0.7109 - val_auc: 0.9198\n",
            "Epoch 17/30\n",
            "309/309 [==============================] - 161s 520ms/step - loss: 0.6120 - auc: 0.9341 - val_loss: 2.8454 - val_auc: 0.9125\n",
            "Epoch 18/30\n",
            "309/309 [==============================] - 161s 520ms/step - loss: 0.7937 - auc: 0.9287 - val_loss: 0.6600 - val_auc: 0.9220\n",
            "Epoch 19/30\n",
            "309/309 [==============================] - 162s 523ms/step - loss: 0.8197 - auc: 0.9254 - val_loss: 0.7618 - val_auc: 0.9129\n",
            "Epoch 20/30\n",
            "309/309 [==============================] - 161s 520ms/step - loss: 0.7300 - auc: 0.9250 - val_loss: 0.6981 - val_auc: 0.9175\n",
            "Epoch 21/30\n",
            "309/309 [==============================] - 162s 524ms/step - loss: 0.6684 - auc: 0.9257 - val_loss: 0.8757 - val_auc: 0.8692\n",
            "Epoch 22/30\n",
            "309/309 [==============================] - 161s 522ms/step - loss: 0.7832 - auc: 0.9218 - val_loss: 0.6505 - val_auc: 0.9178\n",
            "Epoch 23/30\n",
            "309/309 [==============================] - 159s 513ms/step - loss: 0.7197 - auc: 0.9224 - val_loss: 0.7317 - val_auc: 0.9031\n",
            "Epoch 24/30\n",
            "309/309 [==============================] - 159s 516ms/step - loss: 0.6692 - auc: 0.9246 - val_loss: 0.6917 - val_auc: 0.9192\n",
            "Epoch 25/30\n",
            "309/309 [==============================] - 158s 511ms/step - loss: 0.6700 - auc: 0.9251 - val_loss: 0.9222 - val_auc: 0.8613\n",
            "Epoch 26/30\n",
            "309/309 [==============================] - 160s 518ms/step - loss: 0.9897 - auc: 0.9236 - val_loss: 0.6326 - val_auc: 0.9250\n",
            "Epoch 27/30\n",
            "309/309 [==============================] - 158s 511ms/step - loss: 0.6940 - auc: 0.9229 - val_loss: 1.2776 - val_auc: 0.7569\n",
            "Epoch 28/30\n",
            "309/309 [==============================] - 160s 517ms/step - loss: 1.7974 - auc: 0.9167 - val_loss: 1.3174 - val_auc: 0.9039\n",
            "Epoch 29/30\n",
            "309/309 [==============================] - 158s 510ms/step - loss: 0.7476 - auc: 0.9126 - val_loss: 0.8573 - val_auc: 0.9128\n",
            "Epoch 30/30\n",
            "309/309 [==============================] - 159s 516ms/step - loss: 0.9060 - auc: 0.9100 - val_loss: 0.7156 - val_auc: 0.9099\n"
          ]
        }
      ],
      "source": [
        "history = model.fit(training_set,\n",
        "                              validation_data=validation,\n",
        "                              epochs=30,\n",
        "                              verbose=1, callbacks=[EarlyStopping(monitor='val_loss',patience=30)])"
      ]
    },
    {
      "cell_type": "code",
      "execution_count": null,
      "metadata": {
        "id": "vVEl6abErkiz",
        "colab": {
          "base_uri": "https://localhost:8080/"
        },
        "outputId": "65cef2cf-f092-489d-cbfa-2a43d4f2fda8"
      },
      "outputs": [
        {
          "output_type": "stream",
          "name": "stderr",
          "text": [
            "/usr/local/lib/python3.7/dist-packages/PIL/TiffImagePlugin.py:788: UserWarning: Corrupt EXIF data.  Expecting to read 4 bytes but only got 2. \n",
            "  warnings.warn(str(msg))\n"
          ]
        },
        {
          "output_type": "stream",
          "name": "stdout",
          "text": [
            "Test loss 0.7097840309143066\n",
            "Test accuary 0.9085759520530701\n"
          ]
        }
      ],
      "source": [
        "Score=model.evaluate(validation,verbose=0)\n",
        "print('Test loss',Score[0])\n",
        "print('Test accuary', Score[1])"
      ]
    },
    {
      "cell_type": "code",
      "source": [
        "model.save(\"/content/drive/MyDrive/AI/PROJECT/Final.h5\")"
      ],
      "metadata": {
        "id": "U7VPSf4bXty0"
      },
      "execution_count": null,
      "outputs": []
    },
    {
      "cell_type": "code",
      "source": [
        "model_CNN=load_model('/content/drive/MyDrive/AI/PROJECT/Final.h5')"
      ],
      "metadata": {
        "id": "oERMbRnVotrI"
      },
      "execution_count": null,
      "outputs": []
    },
    {
      "cell_type": "code",
      "execution_count": null,
      "metadata": {
        "colab": {
          "base_uri": "https://localhost:8080/"
        },
        "id": "NomA9REDOlad",
        "outputId": "44a74d4f-1afd-4986-9727-551f51a75581"
      },
      "outputs": [
        {
          "output_type": "error",
          "ename": "FileNotFoundError",
          "evalue": "ignored",
          "traceback": [
            "\u001b[0;31m---------------------------------------------------------------------------\u001b[0m",
            "\u001b[0;31mFileNotFoundError\u001b[0m                         Traceback (most recent call last)",
            "\u001b[0;32m<ipython-input-22-9c2f5a6ff612>\u001b[0m in \u001b[0;36m<module>\u001b[0;34m()\u001b[0m\n\u001b[0;32m----> 1\u001b[0;31m \u001b[0mimg\u001b[0m\u001b[0;34m=\u001b[0m\u001b[0mload_img\u001b[0m\u001b[0;34m(\u001b[0m\u001b[0;34m\"/content/drive/MyDrive/HK6/AI/DATA/WASTE CLASSIFICATION/validation/lon1 (61).jpg\"\u001b[0m\u001b[0;34m,\u001b[0m\u001b[0mtarget_size\u001b[0m\u001b[0;34m=\u001b[0m\u001b[0;34m(\u001b[0m\u001b[0;36m150\u001b[0m\u001b[0;34m,\u001b[0m\u001b[0;36m150\u001b[0m\u001b[0;34m)\u001b[0m\u001b[0;34m)\u001b[0m\u001b[0;34m\u001b[0m\u001b[0;34m\u001b[0m\u001b[0m\n\u001b[0m\u001b[1;32m      2\u001b[0m \u001b[0mplt\u001b[0m\u001b[0;34m.\u001b[0m\u001b[0mimshow\u001b[0m\u001b[0;34m(\u001b[0m\u001b[0mimg\u001b[0m\u001b[0;34m)\u001b[0m\u001b[0;34m\u001b[0m\u001b[0;34m\u001b[0m\u001b[0m\n\u001b[1;32m      3\u001b[0m \u001b[0mimg\u001b[0m\u001b[0;34m=\u001b[0m\u001b[0mimg_to_array\u001b[0m\u001b[0;34m(\u001b[0m\u001b[0mimg\u001b[0m\u001b[0;34m)\u001b[0m\u001b[0;34m\u001b[0m\u001b[0;34m\u001b[0m\u001b[0m\n\u001b[1;32m      4\u001b[0m \u001b[0mimg\u001b[0m\u001b[0;34m=\u001b[0m\u001b[0mimg\u001b[0m\u001b[0;34m.\u001b[0m\u001b[0mastype\u001b[0m\u001b[0;34m(\u001b[0m\u001b[0;34m'float32'\u001b[0m\u001b[0;34m)\u001b[0m\u001b[0;34m\u001b[0m\u001b[0;34m\u001b[0m\u001b[0m\n\u001b[1;32m      5\u001b[0m \u001b[0mimg\u001b[0m\u001b[0;34m=\u001b[0m\u001b[0mimg\u001b[0m\u001b[0;34m/\u001b[0m\u001b[0;36m255\u001b[0m\u001b[0;34m\u001b[0m\u001b[0;34m\u001b[0m\u001b[0m\n",
            "\u001b[0;32m/usr/local/lib/python3.7/dist-packages/keras/preprocessing/image.py\u001b[0m in \u001b[0;36mload_img\u001b[0;34m(path, grayscale, color_mode, target_size, interpolation)\u001b[0m\n\u001b[1;32m    312\u001b[0m   \"\"\"\n\u001b[1;32m    313\u001b[0m   return image.load_img(path, grayscale=grayscale, color_mode=color_mode,\n\u001b[0;32m--> 314\u001b[0;31m                         target_size=target_size, interpolation=interpolation)\n\u001b[0m\u001b[1;32m    315\u001b[0m \u001b[0;34m\u001b[0m\u001b[0m\n\u001b[1;32m    316\u001b[0m \u001b[0;34m\u001b[0m\u001b[0m\n",
            "\u001b[0;32m/usr/local/lib/python3.7/dist-packages/keras_preprocessing/image/utils.py\u001b[0m in \u001b[0;36mload_img\u001b[0;34m(path, grayscale, color_mode, target_size, interpolation)\u001b[0m\n\u001b[1;32m    111\u001b[0m         raise ImportError('Could not import PIL.Image. '\n\u001b[1;32m    112\u001b[0m                           'The use of `load_img` requires PIL.')\n\u001b[0;32m--> 113\u001b[0;31m     \u001b[0;32mwith\u001b[0m \u001b[0mopen\u001b[0m\u001b[0;34m(\u001b[0m\u001b[0mpath\u001b[0m\u001b[0;34m,\u001b[0m \u001b[0;34m'rb'\u001b[0m\u001b[0;34m)\u001b[0m \u001b[0;32mas\u001b[0m \u001b[0mf\u001b[0m\u001b[0;34m:\u001b[0m\u001b[0;34m\u001b[0m\u001b[0;34m\u001b[0m\u001b[0m\n\u001b[0m\u001b[1;32m    114\u001b[0m         \u001b[0mimg\u001b[0m \u001b[0;34m=\u001b[0m \u001b[0mpil_image\u001b[0m\u001b[0;34m.\u001b[0m\u001b[0mopen\u001b[0m\u001b[0;34m(\u001b[0m\u001b[0mio\u001b[0m\u001b[0;34m.\u001b[0m\u001b[0mBytesIO\u001b[0m\u001b[0;34m(\u001b[0m\u001b[0mf\u001b[0m\u001b[0;34m.\u001b[0m\u001b[0mread\u001b[0m\u001b[0;34m(\u001b[0m\u001b[0;34m)\u001b[0m\u001b[0;34m)\u001b[0m\u001b[0;34m)\u001b[0m\u001b[0;34m\u001b[0m\u001b[0;34m\u001b[0m\u001b[0m\n\u001b[1;32m    115\u001b[0m         \u001b[0;32mif\u001b[0m \u001b[0mcolor_mode\u001b[0m \u001b[0;34m==\u001b[0m \u001b[0;34m'grayscale'\u001b[0m\u001b[0;34m:\u001b[0m\u001b[0;34m\u001b[0m\u001b[0;34m\u001b[0m\u001b[0m\n",
            "\u001b[0;31mFileNotFoundError\u001b[0m: [Errno 2] No such file or directory: '/content/drive/MyDrive/HK6/AI/DATA/WASTE CLASSIFICATION/validation/lon1 (61).jpg'"
          ]
        }
      ],
      "source": [
        "img=load_img(\"/content/drive/MyDrive/HK6/AI/DATA/WASTE CLASSIFICATION/validation/lon1 (61).jpg\",target_size=(150,150))\n",
        "plt.imshow(img)\n",
        "img=img_to_array(img)\n",
        "img=img.astype('float32')\n",
        "img=img/255\n",
        "img=np.expand_dims(img,axis=0)\n",
        "result=model_CNN.predict(img)\n",
        "if round(result[0][0])==1:\n",
        "  prediction='ChXD'\n",
        "if round(result[0][1])==1:\n",
        "  prediction='NON RECYCLING'\n",
        "if round(result[0][2])==1:\n",
        "  prediction='ORGANIC'\n",
        "if round(result[0][3])==1:\n",
        "  prediction='RECYCLING'\n",
        "print(prediction)"
      ]
    }
  ],
  "metadata": {
    "accelerator": "GPU",
    "colab": {
      "name": "Untitled0.ipynb",
      "provenance": [],
      "collapsed_sections": [],
      "authorship_tag": "ABX9TyMUGhVFozYF4LNqE3oc5y+7",
      "include_colab_link": true
    },
    "kernelspec": {
      "display_name": "Python 3",
      "name": "python3"
    },
    "language_info": {
      "name": "python"
    }
  },
  "nbformat": 4,
  "nbformat_minor": 0
}